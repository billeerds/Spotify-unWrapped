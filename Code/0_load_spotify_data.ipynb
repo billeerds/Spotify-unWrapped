{
 "cells": [
  {
   "cell_type": "code",
   "execution_count": 8,
   "metadata": {},
   "outputs": [],
   "source": [
    "import pandas as pd\n",
    "import json\n",
    "import glob\n",
    "import os"
   ]
  },
  {
   "cell_type": "markdown",
   "metadata": {},
   "source": [
    "## I prompted and iterated this code with Gemini."
   ]
  },
  {
   "cell_type": "code",
   "execution_count": 6,
   "metadata": {},
   "outputs": [],
   "source": [
    "def collate_json_files(directory, pattern=\"Streaming_History_Audio_*.json\"):\n",
    "    \"\"\"\n",
    "    Collates multiple JSON files in a directory into a single Pandas DataFrame.\n",
    "\n",
    "    Args:\n",
    "        directory (str): The directory containing the JSON files.\n",
    "        pattern (str, optional): The glob pattern to match the JSON files. Defaults to \"Streaming_History_Audio_*.json\".\n",
    "\n",
    "    Returns:\n",
    "        pandas.DataFrame: A DataFrame containing the combined data, or None if an error occurs.\n",
    "    \"\"\"\n",
    "\n",
    "    json_files = glob.glob(os.path.join(directory, pattern))\n",
    "    all_data = []\n",
    "\n",
    "    for file in json_files:\n",
    "        try:\n",
    "            with open(file, 'r', encoding='utf-8') as f:\n",
    "                data = json.load(f)\n",
    "\n",
    "                if isinstance(data, list) and all(isinstance(item, dict) for item in data):\n",
    "                    all_data.extend(data)\n",
    "                elif isinstance(data, dict):\n",
    "                    all_data.append(data)\n",
    "                else:\n",
    "                    print(f\"Warning: JSON structure in {file} is not a list of dictionaries or a dictionary. Skipping.\")\n",
    "\n",
    "        except json.JSONDecodeError as e:\n",
    "            print(f\"Error decoding JSON in {file}: {e}\")\n",
    "        except FileNotFoundError:\n",
    "            print(f\"Error: File not found at {file}\")\n",
    "        except Exception as e:\n",
    "            print(f\"An unexpected error occurred processing {file}: {e}\")\n",
    "\n",
    "    if all_data:\n",
    "        df = pd.DataFrame(all_data)\n",
    "        return df\n",
    "    else:\n",
    "        return None\n"
   ]
  },
  {
   "cell_type": "code",
   "execution_count": 9,
   "metadata": {},
   "outputs": [
    {
     "name": "stdout",
     "output_type": "stream",
     "text": [
      "Successfully loaded 129958 audio records.\n",
      "Successfully loaded 147 video records.\n",
      "Data saved to Parquet files.\n"
     ]
    }
   ],
   "source": [
    "# --- Main script ---\n",
    "directory_path = \"../Data/my_spotify_data/Spotify Extended Streaming History/\"  # Replace with the actual path\n",
    "\n",
    "# Collate Audio Data\n",
    "df_audio = collate_json_files(directory_path, \"Streaming_History_Audio_*.json\")\n",
    "\n",
    "if df_audio is not None:\n",
    "    print(f\"Successfully loaded {len(df_audio)} audio records.\")\n",
    "\n",
    "    # Collate Video Data (separately)\n",
    "    df_video = collate_json_files(directory_path, \"Streaming_History_Video_*.json\")\n",
    "\n",
    "    if df_video is not None:\n",
    "        print(f\"Successfully loaded {len(df_video)} video records.\")\n",
    "\n",
    "        # Save to Parquet (separate files)\n",
    "        df_audio.to_parquet(os.path.join(directory_path, \"collated_spotify_audio.parquet\"))\n",
    "        df_video.to_parquet(os.path.join(directory_path, \"collated_spotify_video.parquet\"))\n",
    "\n",
    "        print(\"Data saved to Parquet files.\")\n",
    "\n",
    "    else:\n",
    "        print(\"No video data was loaded. Check the file or path.\")\n",
    "\n",
    "else:\n",
    "    print(\"No audio data was loaded. Check the files or path.\")"
   ]
  }
 ],
 "metadata": {
  "kernelspec": {
   "display_name": ".venv",
   "language": "python",
   "name": "python3"
  },
  "language_info": {
   "codemirror_mode": {
    "name": "ipython",
    "version": 3
   },
   "file_extension": ".py",
   "mimetype": "text/x-python",
   "name": "python",
   "nbconvert_exporter": "python",
   "pygments_lexer": "ipython3",
   "version": "3.13.2"
  }
 },
 "nbformat": 4,
 "nbformat_minor": 2
}
